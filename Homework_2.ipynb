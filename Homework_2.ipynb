{
  "nbformat": 4,
  "nbformat_minor": 0,
  "metadata": {
    "colab": {
      "provenance": [],
      "authorship_tag": "ABX9TyP7CjgwfQa/L6e66nwX++Zc",
      "include_colab_link": true
    },
    "kernelspec": {
      "name": "python3",
      "display_name": "Python 3"
    },
    "language_info": {
      "name": "python"
    }
  },
  "cells": [
    {
      "cell_type": "markdown",
      "metadata": {
        "id": "view-in-github",
        "colab_type": "text"
      },
      "source": [
        "<a href=\"https://colab.research.google.com/github/AleksandraKuzmenko/Homework/blob/main/Homework_2.ipynb\" target=\"_parent\"><img src=\"https://colab.research.google.com/assets/colab-badge.svg\" alt=\"Open In Colab\"/></a>"
      ]
    },
    {
      "cell_type": "code",
      "execution_count": 2,
      "metadata": {
        "colab": {
          "base_uri": "https://localhost:8080/"
        },
        "id": "L0O3UtdLH_Vm",
        "outputId": "b66ca612-a869-4d78-ec89-e7a6df5d1ab8"
      },
      "outputs": [
        {
          "output_type": "stream",
          "name": "stdout",
          "text": [
            "Requirement already satisfied: requests in /usr/local/lib/python3.10/dist-packages (2.31.0)\n",
            "Requirement already satisfied: charset-normalizer<4,>=2 in /usr/local/lib/python3.10/dist-packages (from requests) (3.3.2)\n",
            "Requirement already satisfied: idna<4,>=2.5 in /usr/local/lib/python3.10/dist-packages (from requests) (3.6)\n",
            "Requirement already satisfied: urllib3<3,>=1.21.1 in /usr/local/lib/python3.10/dist-packages (from requests) (2.0.7)\n",
            "Requirement already satisfied: certifi>=2017.4.17 in /usr/local/lib/python3.10/dist-packages (from requests) (2023.11.17)\n",
            "Requirement already satisfied: beautifulsoup4 in /usr/local/lib/python3.10/dist-packages (4.11.2)\n",
            "Requirement already satisfied: soupsieve>1.2 in /usr/local/lib/python3.10/dist-packages (from beautifulsoup4) (2.5)\n"
          ]
        }
      ],
      "source": [
        "!pip install requests\n",
        "!pip install beautifulsoup4\n",
        "import requests as rq\n",
        "from bs4 import BeautifulSoup\n",
        "import pandas as pd\n"
      ]
    },
    {
      "cell_type": "code",
      "source": [
        "url = 'https://runivers.ru/lib/rubriks/3214'\n",
        "urls = []\n",
        "all_page = ['https://runivers.ru/lib/rubriks/3214/?rubrik=3214&PAGEN_1=',]\n",
        "for n in range(2,5):\n",
        "  all_page.append('https://runivers.ru/lib/rubriks/3214/?rubrik=3214&PAGEN_1=' + str(n))\n",
        "  print(all_page)\n",
        "page = rq.get(url)\n",
        "link = BeautifulSoup(page.text, features=\"html.parser\")\n",
        "for l in link.find_all('a'):\n",
        "  if l.parent.name == 'h3':\n",
        "    print(l.text)\n",
        "    urls.append(url + l['href'])\n",
        "print(urls)\n"
      ],
      "metadata": {
        "colab": {
          "base_uri": "https://localhost:8080/"
        },
        "id": "rn2_hF74MOSu",
        "outputId": "8f185a12-b2ba-45a2-c7bc-e824b6160ddf"
      },
      "execution_count": 3,
      "outputs": [
        {
          "output_type": "stream",
          "name": "stdout",
          "text": [
            "['https://runivers.ru/lib/rubriks/3214/?rubrik=3214&PAGEN_1=', 'https://runivers.ru/lib/rubriks/3214/?rubrik=3214&PAGEN_1=2']\n",
            "['https://runivers.ru/lib/rubriks/3214/?rubrik=3214&PAGEN_1=', 'https://runivers.ru/lib/rubriks/3214/?rubrik=3214&PAGEN_1=2', 'https://runivers.ru/lib/rubriks/3214/?rubrik=3214&PAGEN_1=3']\n",
            "['https://runivers.ru/lib/rubriks/3214/?rubrik=3214&PAGEN_1=', 'https://runivers.ru/lib/rubriks/3214/?rubrik=3214&PAGEN_1=2', 'https://runivers.ru/lib/rubriks/3214/?rubrik=3214&PAGEN_1=3', 'https://runivers.ru/lib/rubriks/3214/?rubrik=3214&PAGEN_1=4']\n",
            "\n",
            "\n",
            "\n",
            "\t\t\t\t\n",
            "\n",
            "\t\t\tДвухсотлетие Кабинета Его Императорского Величества. 1704-1904. Историческое исследование. — СПб.: Товарищество Р. Голике и А. Вильборг, 1911.— 794 с.\t\t\t\t\t\t\n",
            "\n",
            "\n",
            "\t\t\t\tАбаза В. А.\t\t\t\t\n",
            "\t\t\t\t\n",
            "\n",
            "\t\t\tИстория Армении. — СПб.: Тип. Н.И. Скороходова, 1888.— 134 с.\t\t\t\t\t\t\n",
            "\n",
            "\n",
            "\t\t\t\tАболенский И.\t\t\t\t\n",
            "\t\t\t\t\n",
            "\n",
            "\t\t\tМосковское государство при царе Алексее Михайловиче и Патриархе Никоне, по запискам архидьякона Павла Алеппского. — Киев: Тип. С.Т. Еремеева, 1876.— 210 с.\t\t\t\t\t\t\n",
            "\n",
            "\n",
            "\t\t\t\tАвалов З. Д.\t\t\t\t\n",
            "\t\t\t\t\n",
            "\n",
            "\t\t\tПрисоединение Грузии к России. — СПб.: Тип. А.С. Суворина, 1901.— 322 с.\t\t\t\t\t\t\n",
            "\n",
            "\n",
            "\t\t\t\tАвенариус В. П.\t\t\t\t\n",
            "\t\t\t\t\n",
            "\n",
            "\t\t\tКнига былин. Свод избранных образцов русской народной эпической поэзии. — М.: Типо-лит. Т-ва И.Н. Кушнерев и Ко, 1902.— 419 с.\t\t\t\t\t\t\n",
            "\n",
            "\n",
            "\t\t\t\tАвенариус В. П.\t\t\t\t\n",
            "\t\t\t\t\n",
            "\n",
            "\t\t\tКнига о киевских богатырях: свод 24 избранных былин древнекиевского эпоса. — СПб.: Тип. М. Стасюлевича, 1876.— 357 с.\t\t\t\t\t\t\n",
            "\n",
            "\n",
            "\t\t\t\tАгафонов Н. Я.\t\t\t\t\n",
            "\t\t\t\t\n",
            "\n",
            "\t\t\tИз казанской истории. — Казань: Лито-Типография И.Н. Харитонова, 1906.— 228 с.\t\t\t\t\t\t\n",
            "\n",
            "\n",
            "\n",
            "\t\t\t\t\n",
            "\n",
            "\t\t\tАкты относящиеся к истории Южнозападной Руси. — Львов: Тип. Ставропигийского Института, 1808.— 196 с.\t\t\t\t\t\t\n",
            "\n",
            "\n",
            "\n",
            "\t\t\t\t\n",
            "\n",
            "\t\t\tАкты, относящиеся к истории Западной России: В 5 т. — СПб.: Тип. II Отделения Собственной Е.И.В. Канцелярии, 1846-1853.\t\t\t\n",
            "\n",
            "\n",
            "\n",
            "\t\t\t\t\n",
            "\n",
            "\t\t\tАкты, относящиеся к истории южной и западной России: В 15 т. — СПб.: Тип. Эдуарда Праца, 1861-1892.\t\t\t\n",
            "['https://runivers.ru/lib/rubriks/3214/lib/book7820/', 'https://runivers.ru/lib/rubriks/3214/lib/book4587/', 'https://runivers.ru/lib/rubriks/3214/lib/book8359/', 'https://runivers.ru/lib/rubriks/3214/lib/book4588/', 'https://runivers.ru/lib/rubriks/3214/lib/book4589/', 'https://runivers.ru/lib/rubriks/3214/lib/book4321/', 'https://runivers.ru/lib/rubriks/3214/lib/book19792/', 'https://runivers.ru/lib/rubriks/3214/lib/book20822/', 'https://runivers.ru/lib/rubriks/3214/lib/book19830/', 'https://runivers.ru/lib/rubriks/3214/lib/book19843/']\n"
          ]
        }
      ]
    }
  ]
}