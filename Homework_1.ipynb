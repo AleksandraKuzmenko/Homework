{
  "nbformat": 4,
  "nbformat_minor": 0,
  "metadata": {
    "colab": {
      "provenance": [],
      "authorship_tag": "ABX9TyN0y4WWgmYNSZvAn38/MHSD",
      "include_colab_link": true
    },
    "kernelspec": {
      "name": "python3",
      "display_name": "Python 3"
    },
    "language_info": {
      "name": "python"
    }
  },
  "cells": [
    {
      "cell_type": "markdown",
      "metadata": {
        "id": "view-in-github",
        "colab_type": "text"
      },
      "source": [
        "<a href=\"https://colab.research.google.com/github/AleksandraKuzmenko/Homework/blob/main/Homework_1.ipynb\" target=\"_parent\"><img src=\"https://colab.research.google.com/assets/colab-badge.svg\" alt=\"Open In Colab\"/></a>"
      ]
    },
    {
      "cell_type": "code",
      "source": [
        "!pip install pytelegrambotapi\n",
        "import telebot\n",
        "from telebot import types"
      ],
      "metadata": {
        "colab": {
          "base_uri": "https://localhost:8080/"
        },
        "id": "_mcdRcBdW39E",
        "outputId": "bae11e4a-4f87-4514-f733-916537293f69"
      },
      "execution_count": 6,
      "outputs": [
        {
          "output_type": "stream",
          "name": "stdout",
          "text": [
            "Collecting pytelegrambotapi\n",
            "  Downloading pyTelegramBotAPI-4.14.0.tar.gz (243 kB)\n",
            "\u001b[?25l     \u001b[90m━━━━━━━━━━━━━━━━━━━━━━━━━━━━━━━━━━━━━━━━\u001b[0m \u001b[32m0.0/243.1 kB\u001b[0m \u001b[31m?\u001b[0m eta \u001b[36m-:--:--\u001b[0m\r\u001b[2K     \u001b[91m━━━━━━━━━━━━━━━━━━━━━━━━━━━━━━━━\u001b[0m\u001b[90m╺\u001b[0m\u001b[90m━━━━━━━\u001b[0m \u001b[32m194.6/243.1 kB\u001b[0m \u001b[31m5.8 MB/s\u001b[0m eta \u001b[36m0:00:01\u001b[0m\r\u001b[2K     \u001b[90m━━━━━━━━━━━━━━━━━━━━━━━━━━━━━━━━━━━━━━━━\u001b[0m \u001b[32m243.1/243.1 kB\u001b[0m \u001b[31m5.0 MB/s\u001b[0m eta \u001b[36m0:00:00\u001b[0m\n",
            "\u001b[?25h  Preparing metadata (setup.py) ... \u001b[?25l\u001b[?25hdone\n",
            "Requirement already satisfied: requests in /usr/local/lib/python3.10/dist-packages (from pytelegrambotapi) (2.31.0)\n",
            "Requirement already satisfied: charset-normalizer<4,>=2 in /usr/local/lib/python3.10/dist-packages (from requests->pytelegrambotapi) (3.3.2)\n",
            "Requirement already satisfied: idna<4,>=2.5 in /usr/local/lib/python3.10/dist-packages (from requests->pytelegrambotapi) (3.6)\n",
            "Requirement already satisfied: urllib3<3,>=1.21.1 in /usr/local/lib/python3.10/dist-packages (from requests->pytelegrambotapi) (2.0.7)\n",
            "Requirement already satisfied: certifi>=2017.4.17 in /usr/local/lib/python3.10/dist-packages (from requests->pytelegrambotapi) (2023.11.17)\n",
            "Building wheels for collected packages: pytelegrambotapi\n",
            "  Building wheel for pytelegrambotapi (setup.py) ... \u001b[?25l\u001b[?25hdone\n",
            "  Created wheel for pytelegrambotapi: filename=pyTelegramBotAPI-4.14.0-py3-none-any.whl size=215252 sha256=42a58e2da47cfd1a2d4d024ea5882eb15f2ac924c334845b914a7074e84ea485\n",
            "  Stored in directory: /root/.cache/pip/wheels/25/51/2d/24b40a366c85c37928d5aa36ddf257e5a79fad25e1ecd11b2c\n",
            "Successfully built pytelegrambotapi\n",
            "Installing collected packages: pytelegrambotapi\n",
            "Successfully installed pytelegrambotapi-4.14.0\n"
          ]
        }
      ]
    },
    {
      "cell_type": "code",
      "execution_count": 5,
      "metadata": {
        "colab": {
          "base_uri": "https://localhost:8080/"
        },
        "id": "gGW7dcbq17Mm",
        "outputId": "95d94476-ffa8-4915-9e43-8591ed6ff8b3"
      },
      "outputs": [
        {
          "name": "stdout",
          "output_type": "stream",
          "text": [
            "Здравствуйте.\n",
            "Вы пропустили занятие?Нет\n",
            "Вы хотите сообщить о возможном пропуске следующего занятия по уважительной причине?Да\n",
            "Когда состоится занятие?22.12.2023\n",
            "Введите свою фамилию.Кузьменко\n"
          ]
        }
      ],
      "source": [
        "print ('Здравствуйте.')\n",
        "s = input ('Вы пропустили занятие?')\n",
        "if s == ('Нет'):\n",
        "  r = input('Вы хотите сообщить о возможном пропуске следующего занятия по уважительной причине?')\n",
        "  if r == ('Да'):\n",
        "    d = input('Когда состоится занятие?')\n",
        "    f = input('Введите свою фамилию.')\n",
        "  else:\n",
        "    print('Пропуск занятия по неуважительной причине не допускается.')\n",
        "else:\n",
        "  a = int(input('Для отработки пропущенного занятия необходимо выполнить дополнительное письменное задание. Какое количество занятий вы пропустили?'))\n",
        "  if a <= 2:\n",
        "    print('Вам необходимо подготовить словарь по пропущенным вами темам: не менее 20 понятий по каждой теме. Выполненное задание необходимо направить на электронную почту преподавателя')\n",
        "  elif 3 <= a <= 5:\n",
        "    print('Вам необходимо: 1) подготовить словарь по пропущенным вами темам: не менее 20 понятий по каждой теме; 2) написать эссе по высказыванию из представленного списка. Выполненное задание необходимо направить на электронную почту преподавателя')\n",
        "  elif a > 5:\n",
        "    print('Каждая пропущенная тема будет задана вам в качестве дополнительного вопроса на зачете')\n",
        "  else:\n",
        "    a = input('Введенные вами данные некорректны. Какое количество занятий вы пропустили?')\n",
        "with open('result.txt', 'a', encoding='utf-8') as file:\n",
        "  print(f, d, sep=';', file=file)"
      ]
    },
    {
      "cell_type": "code",
      "source": [
        "from time import sleep\n",
        "your_bot = ('6674852070:AAHf3ce7uDQ38VemcSe33SjJe3Pqu7zAVhM')\n",
        "bot = telebot.TeleBot(your_bot)\n",
        "@bot.message_handler(commands=[\"start\"])\n",
        "def start(message, res=False):\n",
        "  bot.send_message(message.chat.id, 'Здравствуйте. Вы пропустили занятие?')\n",
        "@bot.message_handler(content_types=[\"text\"])\n",
        "def handle_text(message):\n",
        "  if message.text == 'Да':\n",
        "    bot.send_message(message.chat.id, 'Для отработки пропущенного занятия необходимо выполнить дополнительное письменное задание. Какое количество занятий вы пропустили?')\n",
        "  elif message.text == 'Нет':\n",
        "     bot.send_message(message.chat.id, 'Если вы хотите сообщить о возможном пропуске следующего занятия по уважительной причине, сообщите дату возможного пропуска и вашу фамилию.')\n",
        "     sleep(10)\n",
        "     user = message.chat.id, message.from_user.first_name, message.from_user.last_name, message.from_user.username, message.text\n",
        "     with open('users.csv', 'a', encoding='utf-8') as f:\n",
        "       print(*user, sep='\\t', file=f)\n",
        "  try:\n",
        "    if int(message.text) <= 2:\n",
        "      bot.send_message(message.chat.id, 'Вам необходимо подготовить словарь по пропущенным вами темам: не менее 20 понятий по каждой теме. Выполненное задание необходимо направить на электронную почту преподавателя')\n",
        "    elif 3 <= int(message.text) <= 5:\n",
        "      bot.send_message(message.chat.id,'Вам необходимо: 1) подготовить словарь по пропущенным вами темам: не менее 20 понятий по каждой теме; 2) написать эссе по высказыванию из представленного списка. Выполненное задание необходимо направить на электронную почту преподавателя')\n",
        "    elif int(message.text) > 5:\n",
        "      bot.send_message(message.chat.id,'Каждая пропущенная тема будет задана вам в качестве дополнительного вопроса на зачете')\n",
        "  except:\n",
        "     pass\n",
        "bot.polling(none_stop=True, interval=0)"
      ],
      "metadata": {
        "id": "MxDksmDAYz3m"
      },
      "execution_count": 11,
      "outputs": []
    }
  ]
}